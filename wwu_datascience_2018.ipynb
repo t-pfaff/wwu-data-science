{
 "cells": [
  {
   "cell_type": "markdown",
   "metadata": {},
   "source": [
    "# WWU Münster Zertifikatslehrgang Data Science\n",
    "# Marketing Analytics\n",
    "Dr. Tobias Pfaff, 24. April 2018"
   ]
  },
  {
   "cell_type": "markdown",
   "metadata": {},
   "source": [
    "![alt_text](http://nirvacana.com/thoughts/wp-content/uploads/2013/07/RoadToDataScientist1.png)\n",
    "\"The Road to Becoming a Data Scientist\"\n",
    "\n",
    "Source: [Swami Chandrasekaran](http://nirvacana.com/thoughts/becoming-a-data-scientist/)"
   ]
  },
  {
   "cell_type": "markdown",
   "metadata": {},
   "source": [
    "## 0. Vorbereitung"
   ]
  },
  {
   "cell_type": "markdown",
   "metadata": {},
   "source": [
    "- Konto einrichten bei [mention.com](https://mention.com/en/signup/)\n",
    "- Konto einrichten bei [zapier.com](https://zapier.com/sign-up)\n",
    "- Google-Konto für Erstellung eines Google Spreadsheet (ggf. [Konto einrichten](https://accounts.google.com/signup?hl=de), auch mit Phantasiename möglich)\n",
    "- Facebook-Konto, von dem aus Test-Posts geschickt werden können (ggf. [Konto einrichten](https://www.facebook.com/), auch mit Phantasiename möglich)\n",
    "    - Posts können für diese Übung auch privat verschickt werden, so dass nur man selbst die Posts auf Facebook sieht\n",
    "- Python 3.6 mit der Miniconda-Distribution installieren (Installationsdateien für Windows, Mac OS X, Linux [hier](http://conda.pydata.org/miniconda.html); auf neueren Geräten 64 bit-Version nehmen)\n",
    "    - nach der Installation Nutzer abmelden und wieder anmelden (ggf. neu starten)\n",
    "    - dann im Terminal bzw. Windows Shell Jupyter Notebook installieren mit: `conda install jupyter notebook` (falls dies nicht funktionieren sollte, bitte am 24.04. am Anfang der Vorlesung Bescheid geben)"
   ]
  },
  {
   "cell_type": "markdown",
   "metadata": {},
   "source": [
    "## 1. Social Media Monitoring\n",
    "*Inhalt wird am 24.04. freigegeben*"
   ]
  },
  {
   "cell_type": "markdown",
   "metadata": {},
   "source": [
    "## 2. Social Media Engineering\n",
    "*Inhalt wird am 24.04. freigegeben*"
   ]
  },
  {
   "cell_type": "markdown",
   "metadata": {},
   "source": [
    "## 3. Social Media Analytics\n",
    "*Inhalt wird am 24.04. freigegeben*"
   ]
  }
 ],
 "metadata": {
  "anaconda-cloud": {},
  "kernelspec": {
   "display_name": "Python 3",
   "language": "python",
   "name": "python3"
  },
  "language_info": {
   "codemirror_mode": {
    "name": "ipython",
    "version": 3
   },
   "file_extension": ".py",
   "mimetype": "text/x-python",
   "name": "python",
   "nbconvert_exporter": "python",
   "pygments_lexer": "ipython3",
   "version": "3.5.2"
  }
 },
 "nbformat": 4,
 "nbformat_minor": 0
}
